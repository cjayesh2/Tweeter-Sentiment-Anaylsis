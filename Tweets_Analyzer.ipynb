{
 "cells": [
  {
   "cell_type": "code",
   "execution_count": 1,
   "metadata": {
    "colab": {},
    "colab_type": "code",
    "id": "CQa3kvnTMSPy"
   },
   "outputs": [],
   "source": [
    "import tweepy\n",
    "from textblob import TextBlob\n",
    "from wordcloud import WordCloud\n",
    "import pandas as pd\n",
    "import numpy as np\n",
    "import re\n",
    "import matplotlib.pyplot as plt\n",
    "plt.style.use('fivethirtyeight')"
   ]
  },
  {
   "cell_type": "code",
   "execution_count": 2,
   "metadata": {
    "colab": {},
    "colab_type": "code",
    "id": "sXwKD84XTIal"
   },
   "outputs": [],
   "source": [
    "consumerKey = '37D4EIzLHkrofHjKNfsQFeq4y'\n",
    "consumerSecret = '404fGNFnFpsIULhIQpXKESh1aVe33Xj2o8ZDQb1uRxexrIcNXe'\n",
    "accessToken = '1922379596-owUK0H7AdFUZCdNQKdemcQKYb8byvQ3UZdiTyn7'\n",
    "accessTokenSecret = '6UFaMLxam0iOIaNXHjfItLAzXO8oa4RazYyPIKLuiLEYC'"
   ]
  },
  {
   "cell_type": "code",
   "execution_count": 3,
   "metadata": {
    "colab": {},
    "colab_type": "code",
    "id": "jS0UwQE2Mh2F"
   },
   "outputs": [],
   "source": [
    "# Create the authentication object\n",
    "authenticate = tweepy.OAuthHandler(consumerKey, consumerSecret) \n",
    "    \n",
    "# Set the access token and access token secret\n",
    "authenticate.set_access_token(accessToken, accessTokenSecret) \n",
    "    \n",
    "# Creating the API object while passing in auth information\n",
    "api = tweepy.API(authenticate, wait_on_rate_limit = True)"
   ]
  },
  {
   "cell_type": "code",
   "execution_count": 4,
   "metadata": {
    "colab": {
     "base_uri": "https://localhost:8080/",
     "height": 275
    },
    "colab_type": "code",
    "id": "ms5iUU7ShNbm",
    "outputId": "da429536-ba21-4a55-e04d-3c8ce8ef8fde"
   },
   "outputs": [
    {
     "name": "stdout",
     "output_type": "stream",
     "text": [
      "Show the 5 recent tweets:\n",
      "\n",
      "1) Hats off to this journalist... https://t.co/PQnXFW2gtn\n",
      "\n",
      "2) RT @AapKaGopalRai: Delhi: 59 units shift to green fuel in 40 days.\n",
      " https://t.co/RJt1OAvhRp\n",
      "\n",
      "3) RT @SatyendarJain: Our medical staff has played the most important role during COVID. \n",
      "\n",
      "From putting their lives at stake to cure others to…\n",
      "\n",
      "4) RT @abhinandita_m: The Delhi govt has been working hard to make Delhi India's cultural capital. \n",
      "\n",
      "Must Watch: @msisodia in conversation wit…\n",
      "\n",
      "5) बर्ड फ़्लू पर दिल्ली सरकार हर ज़रूरी कदम उठा रही है। घबराने की या चिंता की कोई बात नहीं। स्तिथि पर लगातार नज़र है\n",
      "\n",
      "अभी तक दिल्ली में एक भी कन्फ़र्म्ड केस नहीं पाया गया\n",
      "\n",
      "एहतियातन-\n",
      "\n",
      "आज से जीवित पक्षियों का दिल्ली में आयात बंद\n",
      "\n",
      "आज से ग़ाज़ीपुर मुर्ग़ा मार्केट दस दिन के लिए बंद https://t.co/B4QZarb6nH\n",
      "\n"
     ]
    }
   ],
   "source": [
    "# Extract 100 tweets from the twitter user\n",
    "posts = api.user_timeline(screen_name=\"ArvindKejriwal\", count = 100, lang =\"en\", tweet_mode=\"extended\")\n",
    "\n",
    "#  Print the last 5 tweets\n",
    "print(\"Show the 5 recent tweets:\\n\")\n",
    "i=1\n",
    "for tweet in posts[:5]:\n",
    "    print(str(i) +') '+ tweet.full_text + '\\n')\n",
    "    i= i+1"
   ]
  },
  {
   "cell_type": "code",
   "execution_count": 5,
   "metadata": {
    "colab": {
     "base_uri": "https://localhost:8080/",
     "height": 204
    },
    "colab_type": "code",
    "id": "r1FBTS1chVoe",
    "outputId": "5e6765dc-0415-4a05-b571-cd87e5dcfb23"
   },
   "outputs": [
    {
     "data": {
      "text/html": [
       "<div>\n",
       "<style scoped>\n",
       "    .dataframe tbody tr th:only-of-type {\n",
       "        vertical-align: middle;\n",
       "    }\n",
       "\n",
       "    .dataframe tbody tr th {\n",
       "        vertical-align: top;\n",
       "    }\n",
       "\n",
       "    .dataframe thead th {\n",
       "        text-align: right;\n",
       "    }\n",
       "</style>\n",
       "<table border=\"1\" class=\"dataframe\">\n",
       "  <thead>\n",
       "    <tr style=\"text-align: right;\">\n",
       "      <th></th>\n",
       "      <th>Tweets</th>\n",
       "    </tr>\n",
       "  </thead>\n",
       "  <tbody>\n",
       "    <tr>\n",
       "      <th>0</th>\n",
       "      <td>Hats off to this journalist... https://t.co/PQ...</td>\n",
       "    </tr>\n",
       "    <tr>\n",
       "      <th>1</th>\n",
       "      <td>RT @AapKaGopalRai: Delhi: 59 units shift to gr...</td>\n",
       "    </tr>\n",
       "    <tr>\n",
       "      <th>2</th>\n",
       "      <td>RT @SatyendarJain: Our medical staff has playe...</td>\n",
       "    </tr>\n",
       "    <tr>\n",
       "      <th>3</th>\n",
       "      <td>RT @abhinandita_m: The Delhi govt has been wor...</td>\n",
       "    </tr>\n",
       "    <tr>\n",
       "      <th>4</th>\n",
       "      <td>बर्ड फ़्लू पर दिल्ली सरकार हर ज़रूरी कदम उठा र...</td>\n",
       "    </tr>\n",
       "  </tbody>\n",
       "</table>\n",
       "</div>"
      ],
      "text/plain": [
       "                                              Tweets\n",
       "0  Hats off to this journalist... https://t.co/PQ...\n",
       "1  RT @AapKaGopalRai: Delhi: 59 units shift to gr...\n",
       "2  RT @SatyendarJain: Our medical staff has playe...\n",
       "3  RT @abhinandita_m: The Delhi govt has been wor...\n",
       "4  बर्ड फ़्लू पर दिल्ली सरकार हर ज़रूरी कदम उठा र..."
      ]
     },
     "execution_count": 5,
     "metadata": {},
     "output_type": "execute_result"
    }
   ],
   "source": [
    "# Create a dataframe with a column called Tweets\n",
    "df = pd.DataFrame([tweet.full_text for tweet in posts], columns=['Tweets'])\n",
    "# Show the first 5 rows of data\n",
    "df.head()"
   ]
  },
  {
   "cell_type": "code",
   "execution_count": 6,
   "metadata": {
    "colab": {
     "base_uri": "https://localhost:8080/",
     "height": 419
    },
    "colab_type": "code",
    "id": "4IjgopLwiUHm",
    "outputId": "08eb9d33-0f59-4f80-aeaf-e157a2b804a1"
   },
   "outputs": [
    {
     "data": {
      "text/html": [
       "<div>\n",
       "<style scoped>\n",
       "    .dataframe tbody tr th:only-of-type {\n",
       "        vertical-align: middle;\n",
       "    }\n",
       "\n",
       "    .dataframe tbody tr th {\n",
       "        vertical-align: top;\n",
       "    }\n",
       "\n",
       "    .dataframe thead th {\n",
       "        text-align: right;\n",
       "    }\n",
       "</style>\n",
       "<table border=\"1\" class=\"dataframe\">\n",
       "  <thead>\n",
       "    <tr style=\"text-align: right;\">\n",
       "      <th></th>\n",
       "      <th>Tweets</th>\n",
       "    </tr>\n",
       "  </thead>\n",
       "  <tbody>\n",
       "    <tr>\n",
       "      <th>0</th>\n",
       "      <td>Hats off to this journalist...</td>\n",
       "    </tr>\n",
       "    <tr>\n",
       "      <th>1</th>\n",
       "      <td>: Delhi: 59 units shift to green fuel in 40 da...</td>\n",
       "    </tr>\n",
       "    <tr>\n",
       "      <th>2</th>\n",
       "      <td>: Our medical staff has played the most import...</td>\n",
       "    </tr>\n",
       "    <tr>\n",
       "      <th>3</th>\n",
       "      <td>_m: The Delhi govt has been working hard to ma...</td>\n",
       "    </tr>\n",
       "    <tr>\n",
       "      <th>4</th>\n",
       "      <td>बर्ड फ़्लू पर दिल्ली सरकार हर ज़रूरी कदम उठा र...</td>\n",
       "    </tr>\n",
       "    <tr>\n",
       "      <th>...</th>\n",
       "      <td>...</td>\n",
       "    </tr>\n",
       "    <tr>\n",
       "      <th>95</th>\n",
       "      <td>पंजाब के जो व्यापारी किसानों को संघर्ष में मदद...</td>\n",
       "    </tr>\n",
       "    <tr>\n",
       "      <th>96</th>\n",
       "      <td>: Kamal Deep Singh will always be remembered f...</td>\n",
       "    </tr>\n",
       "    <tr>\n",
       "      <th>97</th>\n",
       "      <td>: While 60th GoaLiberationDay is celebrated in...</td>\n",
       "    </tr>\n",
       "    <tr>\n",
       "      <th>98</th>\n",
       "      <td>उत्तर प्रदेश के राजनीतिक मुद्दों समेत कई और वि...</td>\n",
       "    </tr>\n",
       "    <tr>\n",
       "      <th>99</th>\n",
       "      <td>With the efforts of the people of Delhi, we ha...</td>\n",
       "    </tr>\n",
       "  </tbody>\n",
       "</table>\n",
       "<p>100 rows × 1 columns</p>\n",
       "</div>"
      ],
      "text/plain": [
       "                                               Tweets\n",
       "0                     Hats off to this journalist... \n",
       "1   : Delhi: 59 units shift to green fuel in 40 da...\n",
       "2   : Our medical staff has played the most import...\n",
       "3   _m: The Delhi govt has been working hard to ma...\n",
       "4   बर्ड फ़्लू पर दिल्ली सरकार हर ज़रूरी कदम उठा र...\n",
       "..                                                ...\n",
       "95  पंजाब के जो व्यापारी किसानों को संघर्ष में मदद...\n",
       "96  : Kamal Deep Singh will always be remembered f...\n",
       "97  : While 60th GoaLiberationDay is celebrated in...\n",
       "98  उत्तर प्रदेश के राजनीतिक मुद्दों समेत कई और वि...\n",
       "99  With the efforts of the people of Delhi, we ha...\n",
       "\n",
       "[100 rows x 1 columns]"
      ]
     },
     "execution_count": 6,
     "metadata": {},
     "output_type": "execute_result"
    }
   ],
   "source": [
    "# Create a function to clean the tweets\n",
    "def cleanTxt(text):\n",
    " text = re.sub('@[A-Za-z0–9]+', '', text) #Removing @mentions\n",
    " text = re.sub('#', '', text) # Removing '#' hash tag\n",
    " text = re.sub('RT[\\s]+', '', text) # Removing RT\n",
    " text = re.sub('https?:\\/\\/\\S+', '', text) # Removing hyperlink\n",
    " \n",
    " return text\n",
    "\n",
    "\n",
    "# Clean the tweets\n",
    "df['Tweets'] = df['Tweets'].apply(cleanTxt)\n",
    "\n",
    "# Show the cleaned tweets\n",
    "df"
   ]
  },
  {
   "cell_type": "code",
   "execution_count": 7,
   "metadata": {
    "colab": {
     "base_uri": "https://localhost:8080/",
     "height": 419
    },
    "colab_type": "code",
    "id": "l5qM8O2dkqP2",
    "outputId": "f911ae78-5936-414b-e7b6-a0ab653f74ab"
   },
   "outputs": [
    {
     "data": {
      "text/html": [
       "<div>\n",
       "<style scoped>\n",
       "    .dataframe tbody tr th:only-of-type {\n",
       "        vertical-align: middle;\n",
       "    }\n",
       "\n",
       "    .dataframe tbody tr th {\n",
       "        vertical-align: top;\n",
       "    }\n",
       "\n",
       "    .dataframe thead th {\n",
       "        text-align: right;\n",
       "    }\n",
       "</style>\n",
       "<table border=\"1\" class=\"dataframe\">\n",
       "  <thead>\n",
       "    <tr style=\"text-align: right;\">\n",
       "      <th></th>\n",
       "      <th>Tweets</th>\n",
       "      <th>Subjectivity</th>\n",
       "      <th>Polarity</th>\n",
       "    </tr>\n",
       "  </thead>\n",
       "  <tbody>\n",
       "    <tr>\n",
       "      <th>0</th>\n",
       "      <td>Hats off to this journalist...</td>\n",
       "      <td>0.000000</td>\n",
       "      <td>0.000000</td>\n",
       "    </tr>\n",
       "    <tr>\n",
       "      <th>1</th>\n",
       "      <td>: Delhi: 59 units shift to green fuel in 40 da...</td>\n",
       "      <td>0.300000</td>\n",
       "      <td>-0.200000</td>\n",
       "    </tr>\n",
       "    <tr>\n",
       "      <th>2</th>\n",
       "      <td>: Our medical staff has played the most import...</td>\n",
       "      <td>0.500000</td>\n",
       "      <td>0.300000</td>\n",
       "    </tr>\n",
       "    <tr>\n",
       "      <th>3</th>\n",
       "      <td>_m: The Delhi govt has been working hard to ma...</td>\n",
       "      <td>0.320833</td>\n",
       "      <td>-0.095833</td>\n",
       "    </tr>\n",
       "    <tr>\n",
       "      <th>4</th>\n",
       "      <td>बर्ड फ़्लू पर दिल्ली सरकार हर ज़रूरी कदम उठा र...</td>\n",
       "      <td>0.000000</td>\n",
       "      <td>0.000000</td>\n",
       "    </tr>\n",
       "    <tr>\n",
       "      <th>...</th>\n",
       "      <td>...</td>\n",
       "      <td>...</td>\n",
       "      <td>...</td>\n",
       "    </tr>\n",
       "    <tr>\n",
       "      <th>95</th>\n",
       "      <td>पंजाब के जो व्यापारी किसानों को संघर्ष में मदद...</td>\n",
       "      <td>0.000000</td>\n",
       "      <td>0.000000</td>\n",
       "    </tr>\n",
       "    <tr>\n",
       "      <th>96</th>\n",
       "      <td>: Kamal Deep Singh will always be remembered f...</td>\n",
       "      <td>0.366667</td>\n",
       "      <td>0.125000</td>\n",
       "    </tr>\n",
       "    <tr>\n",
       "      <th>97</th>\n",
       "      <td>: While 60th GoaLiberationDay is celebrated in...</td>\n",
       "      <td>0.750000</td>\n",
       "      <td>0.350000</td>\n",
       "    </tr>\n",
       "    <tr>\n",
       "      <th>98</th>\n",
       "      <td>उत्तर प्रदेश के राजनीतिक मुद्दों समेत कई और वि...</td>\n",
       "      <td>0.000000</td>\n",
       "      <td>0.000000</td>\n",
       "    </tr>\n",
       "    <tr>\n",
       "      <th>99</th>\n",
       "      <td>With the efforts of the people of Delhi, we ha...</td>\n",
       "      <td>0.630000</td>\n",
       "      <td>0.397273</td>\n",
       "    </tr>\n",
       "  </tbody>\n",
       "</table>\n",
       "<p>100 rows × 3 columns</p>\n",
       "</div>"
      ],
      "text/plain": [
       "                                               Tweets  Subjectivity  Polarity\n",
       "0                     Hats off to this journalist...       0.000000  0.000000\n",
       "1   : Delhi: 59 units shift to green fuel in 40 da...      0.300000 -0.200000\n",
       "2   : Our medical staff has played the most import...      0.500000  0.300000\n",
       "3   _m: The Delhi govt has been working hard to ma...      0.320833 -0.095833\n",
       "4   बर्ड फ़्लू पर दिल्ली सरकार हर ज़रूरी कदम उठा र...      0.000000  0.000000\n",
       "..                                                ...           ...       ...\n",
       "95  पंजाब के जो व्यापारी किसानों को संघर्ष में मदद...      0.000000  0.000000\n",
       "96  : Kamal Deep Singh will always be remembered f...      0.366667  0.125000\n",
       "97  : While 60th GoaLiberationDay is celebrated in...      0.750000  0.350000\n",
       "98  उत्तर प्रदेश के राजनीतिक मुद्दों समेत कई और वि...      0.000000  0.000000\n",
       "99  With the efforts of the people of Delhi, we ha...      0.630000  0.397273\n",
       "\n",
       "[100 rows x 3 columns]"
      ]
     },
     "execution_count": 7,
     "metadata": {},
     "output_type": "execute_result"
    }
   ],
   "source": [
    "# Create a function to get the subjectivity\n",
    "def getSubjectivity(text):\n",
    "   return TextBlob(text).sentiment.subjectivity\n",
    "\n",
    "# Create a function to get the polarity\n",
    "def getPolarity(text):\n",
    "   return  TextBlob(text).sentiment.polarity\n",
    "\n",
    "\n",
    "# Create two new columns 'Subjectivity' & 'Polarity'\n",
    "df['Subjectivity'] = df['Tweets'].apply(getSubjectivity)\n",
    "df['Polarity'] = df['Tweets'].apply(getPolarity)\n",
    "\n",
    "# Show the new dataframe with columns 'Subjectivity' & 'Polarity'\n",
    "df"
   ]
  },
  {
   "cell_type": "code",
   "execution_count": 8,
   "metadata": {
    "colab": {
     "base_uri": "https://localhost:8080/",
     "height": 256
    },
    "colab_type": "code",
    "id": "jRBsKGDLldj1",
    "outputId": "c3c95d1a-748e-41cf-fbc9-3fde71719b7f"
   },
   "outputs": [
    {
     "data": {
      "image/png": "[encoded data removed]",
      "text/plain": [
       "<Figure size 432x288 with 1 Axes>"
      ]
     },
     "metadata": {},
     "output_type": "display_data"
    }
   ],
   "source": [
    "# word cloud visualization\n",
    "allWords = ' '.join([twts for twts in df['Tweets']])\n",
    "wordCloud = WordCloud(width=500, height=300, random_state=21, max_font_size=110).generate(allWords)\n",
    "\n",
    "\n",
    "plt.imshow(wordCloud, interpolation=\"bilinear\")\n",
    "plt.axis('off')\n",
    "plt.show()"
   ]
  },
  {
   "cell_type": "code",
   "execution_count": 9,
   "metadata": {
    "colab": {
     "base_uri": "https://localhost:8080/",
     "height": 419
    },
    "colab_type": "code",
    "id": "6_O7oUrUlkPX",
    "outputId": "80289240-5eca-447c-f3c2-5d1073cb4867"
   },
   "outputs": [
    {
     "data": {
      "text/html": [
       "<div>\n",
       "<style scoped>\n",
       "    .dataframe tbody tr th:only-of-type {\n",
       "        vertical-align: middle;\n",
       "    }\n",
       "\n",
       "    .dataframe tbody tr th {\n",
       "        vertical-align: top;\n",
       "    }\n",
       "\n",
       "    .dataframe thead th {\n",
       "        text-align: right;\n",
       "    }\n",
       "</style>\n",
       "<table border=\"1\" class=\"dataframe\">\n",
       "  <thead>\n",
       "    <tr style=\"text-align: right;\">\n",
       "      <th></th>\n",
       "      <th>Tweets</th>\n",
       "      <th>Subjectivity</th>\n",
       "      <th>Polarity</th>\n",
       "      <th>Analysis</th>\n",
       "    </tr>\n",
       "  </thead>\n",
       "  <tbody>\n",
       "    <tr>\n",
       "      <th>0</th>\n",
       "      <td>Hats off to this journalist...</td>\n",
       "      <td>0.000000</td>\n",
       "      <td>0.000000</td>\n",
       "      <td>Neutral</td>\n",
       "    </tr>\n",
       "    <tr>\n",
       "      <th>1</th>\n",
       "      <td>: Delhi: 59 units shift to green fuel in 40 da...</td>\n",
       "      <td>0.300000</td>\n",
       "      <td>-0.200000</td>\n",
       "      <td>Negative</td>\n",
       "    </tr>\n",
       "    <tr>\n",
       "      <th>2</th>\n",
       "      <td>: Our medical staff has played the most import...</td>\n",
       "      <td>0.500000</td>\n",
       "      <td>0.300000</td>\n",
       "      <td>Positive</td>\n",
       "    </tr>\n",
       "    <tr>\n",
       "      <th>3</th>\n",
       "      <td>_m: The Delhi govt has been working hard to ma...</td>\n",
       "      <td>0.320833</td>\n",
       "      <td>-0.095833</td>\n",
       "      <td>Negative</td>\n",
       "    </tr>\n",
       "    <tr>\n",
       "      <th>4</th>\n",
       "      <td>बर्ड फ़्लू पर दिल्ली सरकार हर ज़रूरी कदम उठा र...</td>\n",
       "      <td>0.000000</td>\n",
       "      <td>0.000000</td>\n",
       "      <td>Neutral</td>\n",
       "    </tr>\n",
       "    <tr>\n",
       "      <th>...</th>\n",
       "      <td>...</td>\n",
       "      <td>...</td>\n",
       "      <td>...</td>\n",
       "      <td>...</td>\n",
       "    </tr>\n",
       "    <tr>\n",
       "      <th>95</th>\n",
       "      <td>पंजाब के जो व्यापारी किसानों को संघर्ष में मदद...</td>\n",
       "      <td>0.000000</td>\n",
       "      <td>0.000000</td>\n",
       "      <td>Neutral</td>\n",
       "    </tr>\n",
       "    <tr>\n",
       "      <th>96</th>\n",
       "      <td>: Kamal Deep Singh will always be remembered f...</td>\n",
       "      <td>0.366667</td>\n",
       "      <td>0.125000</td>\n",
       "      <td>Positive</td>\n",
       "    </tr>\n",
       "    <tr>\n",
       "      <th>97</th>\n",
       "      <td>: While 60th GoaLiberationDay is celebrated in...</td>\n",
       "      <td>0.750000</td>\n",
       "      <td>0.350000</td>\n",
       "      <td>Positive</td>\n",
       "    </tr>\n",
       "    <tr>\n",
       "      <th>98</th>\n",
       "      <td>उत्तर प्रदेश के राजनीतिक मुद्दों समेत कई और वि...</td>\n",
       "      <td>0.000000</td>\n",
       "      <td>0.000000</td>\n",
       "      <td>Neutral</td>\n",
       "    </tr>\n",
       "    <tr>\n",
       "      <th>99</th>\n",
       "      <td>With the efforts of the people of Delhi, we ha...</td>\n",
       "      <td>0.630000</td>\n",
       "      <td>0.397273</td>\n",
       "      <td>Positive</td>\n",
       "    </tr>\n",
       "  </tbody>\n",
       "</table>\n",
       "<p>100 rows × 4 columns</p>\n",
       "</div>"
      ],
      "text/plain": [
       "                                               Tweets  Subjectivity  Polarity  \\\n",
       "0                     Hats off to this journalist...       0.000000  0.000000   \n",
       "1   : Delhi: 59 units shift to green fuel in 40 da...      0.300000 -0.200000   \n",
       "2   : Our medical staff has played the most import...      0.500000  0.300000   \n",
       "3   _m: The Delhi govt has been working hard to ma...      0.320833 -0.095833   \n",
       "4   बर्ड फ़्लू पर दिल्ली सरकार हर ज़रूरी कदम उठा र...      0.000000  0.000000   \n",
       "..                                                ...           ...       ...   \n",
       "95  पंजाब के जो व्यापारी किसानों को संघर्ष में मदद...      0.000000  0.000000   \n",
       "96  : Kamal Deep Singh will always be remembered f...      0.366667  0.125000   \n",
       "97  : While 60th GoaLiberationDay is celebrated in...      0.750000  0.350000   \n",
       "98  उत्तर प्रदेश के राजनीतिक मुद्दों समेत कई और वि...      0.000000  0.000000   \n",
       "99  With the efforts of the people of Delhi, we ha...      0.630000  0.397273   \n",
       "\n",
       "    Analysis  \n",
       "0    Neutral  \n",
       "1   Negative  \n",
       "2   Positive  \n",
       "3   Negative  \n",
       "4    Neutral  \n",
       "..       ...  \n",
       "95   Neutral  \n",
       "96  Positive  \n",
       "97  Positive  \n",
       "98   Neutral  \n",
       "99  Positive  \n",
       "\n",
       "[100 rows x 4 columns]"
      ]
     },
     "execution_count": 9,
     "metadata": {},
     "output_type": "execute_result"
    }
   ],
   "source": [
    "# Create a function to compute negative (-1), neutral (0) and positive (+1) analysis\n",
    "def getAnalysis(score):\n",
    "  if score < 0:\n",
    "    return 'Negative'\n",
    "  elif score == 0:\n",
    "    return 'Neutral'\n",
    "  else:\n",
    "    return 'Positive'\n",
    "    \n",
    "df['Analysis'] = df['Polarity'].apply(getAnalysis)\n",
    "# Show the dataframe\n",
    "df"
   ]
  },
  {
   "cell_type": "code",
   "execution_count": 10,
   "metadata": {
    "colab": {
     "base_uri": "https://localhost:8080/",
     "height": 374
    },
    "colab_type": "code",
    "id": "w-x6HPyml6h_",
    "outputId": "7b7a8ab2-ba28-4321-fe76-9892b103b9d0"
   },
   "outputs": [
    {
     "data": {
      "image/png": "[encoded data removed]",
      "text/plain": [
       "<Figure size 432x288 with 1 Axes>"
      ]
     },
     "metadata": {},
     "output_type": "display_data"
    }
   ],
   "source": [
    "# Plotting and visualizing the counts\n",
    "plt.title('Sentiment Analysis')\n",
    "plt.xlabel('Sentiment')\n",
    "plt.ylabel('Counts')\n",
    "df['Analysis'].value_counts().plot(kind = 'bar')\n",
    "plt.show()"
   ]
  },
  {
   "cell_type": "code",
   "execution_count": null,
   "metadata": {
    "colab": {},
    "colab_type": "code",
    "id": "gUkLGmihnXmZ"
   },
   "outputs": [],
   "source": []
  },
  {
   "cell_type": "code",
   "execution_count": null,
   "metadata": {},
   "outputs": [],
   "source": []
  }
 ],
 "metadata": {
  "colab": {
   "name": "Tweets Analyzer.ipynb",
   "provenance": []
  },
  "kernelspec": {
   "display_name": "Python 3",
   "language": "python",
   "name": "python3"
  },
  "language_info": {
   "codemirror_mode": {
    "name": "ipython",
    "version": 3
   },
   "file_extension": ".py",
   "mimetype": "text/x-python",
   "name": "python",
   "nbconvert_exporter": "python",
   "pygments_lexer": "ipython3",
   "version": "3.8.3"
  }
 },
 "nbformat": 4,
 "nbformat_minor": 1
}
